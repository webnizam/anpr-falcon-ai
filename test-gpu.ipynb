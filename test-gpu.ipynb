{
 "cells": [
  {
   "cell_type": "code",
   "execution_count": 8,
   "metadata": {},
   "outputs": [],
   "source": [
    "import cv2"
   ]
  },
  {
   "cell_type": "code",
   "execution_count": 10,
   "id": "9c093fc0",
   "metadata": {},
   "outputs": [],
   "source": [
    "def returnCameraIndexes():\n",
    "    # checks the first 10 indexes.\n",
    "    index = 0\n",
    "    arr = []\n",
    "    i = 10\n",
    "    while i > 0:\n",
    "        cap = cv2.VideoCapture(index)\n",
    "        if cap.read()[0]:\n",
    "            arr.append(index)\n",
    "            cap.release()\n",
    "        index += 1\n",
    "        i -= 1\n",
    "    return arr"
   ]
  },
  {
   "cell_type": "code",
   "execution_count": 11,
   "id": "f2e671c0",
   "metadata": {},
   "outputs": [
    {
     "name": "stderr",
     "output_type": "stream",
     "text": [
      "OpenCV: out device of bound (0-1): 2\n",
      "OpenCV: camera failed to properly initialize!\n",
      "OpenCV: out device of bound (0-1): 3\n",
      "OpenCV: camera failed to properly initialize!\n",
      "OpenCV: out device of bound (0-1): 4\n",
      "OpenCV: camera failed to properly initialize!\n",
      "OpenCV: out device of bound (0-1): 5\n",
      "OpenCV: camera failed to properly initialize!\n",
      "OpenCV: out device of bound (0-1): 6\n",
      "OpenCV: camera failed to properly initialize!\n",
      "OpenCV: out device of bound (0-1): 7\n",
      "OpenCV: camera failed to properly initialize!\n",
      "OpenCV: out device of bound (0-1): 8\n",
      "OpenCV: camera failed to properly initialize!\n",
      "OpenCV: out device of bound (0-1): 9\n",
      "OpenCV: camera failed to properly initialize!\n"
     ]
    },
    {
     "data": {
      "text/plain": [
       "[0]"
      ]
     },
     "execution_count": 11,
     "metadata": {},
     "output_type": "execute_result"
    }
   ],
   "source": [
    "returnCameraIndexes()"
   ]
  },
  {
   "cell_type": "code",
   "execution_count": null,
   "id": "1569d32e",
   "metadata": {},
   "outputs": [],
   "source": []
  }
 ],
 "metadata": {
  "kernelspec": {
   "display_name": "Python 3.10.6",
   "language": "python",
   "name": "python3"
  },
  "language_info": {
   "codemirror_mode": {
    "name": "ipython",
    "version": 3
   },
   "file_extension": ".py",
   "mimetype": "text/x-python",
   "name": "python",
   "nbconvert_exporter": "python",
   "pygments_lexer": "ipython3",
   "version": "3.10.6"
  },
  "vscode": {
   "interpreter": {
    "hash": "5905649597cb25be660cb419b9263819feb3bec7053369b96b221c7a6b045d10"
   }
  }
 },
 "nbformat": 4,
 "nbformat_minor": 5
}
